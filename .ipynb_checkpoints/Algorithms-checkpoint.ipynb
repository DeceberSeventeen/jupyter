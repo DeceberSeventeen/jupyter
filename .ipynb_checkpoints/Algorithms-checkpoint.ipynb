{
 "cells": [
  {
   "cell_type": "code",
   "execution_count": 1,
   "metadata": {},
   "outputs": [
    {
     "name": "stdout",
     "output_type": "stream",
     "text": [
      "1 x 1 = 1\t\n",
      "1 x 2 = 2\t2 x 2 = 4\t\n",
      "1 x 3 = 3\t2 x 3 = 6\t3 x 3 = 9\t\n",
      "1 x 4 = 4\t2 x 4 = 8\t3 x 4 = 12\t4 x 4 = 16\t\n",
      "1 x 5 = 5\t2 x 5 = 10\t3 x 5 = 15\t4 x 5 = 20\t5 x 5 = 25\t\n",
      "1 x 6 = 6\t2 x 6 = 12\t3 x 6 = 18\t4 x 6 = 24\t5 x 6 = 30\t6 x 6 = 36\t\n",
      "1 x 7 = 7\t2 x 7 = 14\t3 x 7 = 21\t4 x 7 = 28\t5 x 7 = 35\t6 x 7 = 42\t7 x 7 = 49\t\n",
      "1 x 8 = 8\t2 x 8 = 16\t3 x 8 = 24\t4 x 8 = 32\t5 x 8 = 40\t6 x 8 = 48\t7 x 8 = 56\t8 x 8 = 64\t\n",
      "1 x 9 = 9\t2 x 9 = 18\t3 x 9 = 27\t4 x 9 = 36\t5 x 9 = 45\t6 x 9 = 54\t7 x 9 = 63\t8 x 9 = 72\t9 x 9 = 81\t\n"
     ]
    }
   ],
   "source": [
    "for i in range(1, 10):\n",
    "    for j in range(1,i+1):\n",
    "        print(f'{j} x {i} = {j*i}', end='\\t')\n",
    "    \n",
    "    print()"
   ]
  },
  {
   "cell_type": "code",
   "execution_count": 2,
   "metadata": {},
   "outputs": [
    {
     "name": "stdout",
     "output_type": "stream",
     "text": [
      "1 x 1 = 1\t1 x 2 = 2\t1 x 3 = 3\t1 x 4 = 4\t1 x 5 = 5\t1 x 6 = 6\t1 x 7 = 7\t1 x 8 = 8\t1 x 9 = 9\t\n",
      "        \t2 x 2 = 4\t2 x 3 = 6\t2 x 4 = 8\t2 x 5 = 10\t2 x 6 = 12\t2 x 7 = 14\t2 x 8 = 16\t2 x 9 = 18\t\n",
      "        \t        \t3 x 3 = 9\t3 x 4 = 12\t3 x 5 = 15\t3 x 6 = 18\t3 x 7 = 21\t3 x 8 = 24\t3 x 9 = 27\t\n",
      "        \t        \t        \t4 x 4 = 16\t4 x 5 = 20\t4 x 6 = 24\t4 x 7 = 28\t4 x 8 = 32\t4 x 9 = 36\t\n",
      "        \t        \t        \t        \t5 x 5 = 25\t5 x 6 = 30\t5 x 7 = 35\t5 x 8 = 40\t5 x 9 = 45\t\n",
      "        \t        \t        \t        \t        \t6 x 6 = 36\t6 x 7 = 42\t6 x 8 = 48\t6 x 9 = 54\t\n",
      "        \t        \t        \t        \t        \t        \t7 x 7 = 49\t7 x 8 = 56\t7 x 9 = 63\t\n",
      "        \t        \t        \t        \t        \t        \t        \t8 x 8 = 64\t8 x 9 = 72\t\n",
      "        \t        \t        \t        \t        \t        \t        \t        \t9 x 9 = 81\t\n"
     ]
    }
   ],
   "source": [
    "for i in range(1, 10):\n",
    "\n",
    "    for j in range(1,10):\n",
    "        if i > j:\n",
    "            print('        ', end='\\t')\n",
    "        else:\n",
    "            print(f'{i} x {j} = {j*i}', end='\\t')\n",
    "    \n",
    "    print()"
   ]
  },
  {
   "cell_type": "code",
   "execution_count": 3,
   "metadata": {},
   "outputs": [
    {
     "name": "stdout",
     "output_type": "stream",
     "text": [
      "   *\n",
      "  ***\n",
      " *****\n",
      "*******\n",
      " *****\n",
      "  ***\n",
      "   *\n"
     ]
    }
   ],
   "source": [
    "x = 7\n",
    "y = x // 2\n",
    "for i in range(-y, y + 1):\n",
    "    i = abs(i)\n",
    "    print(f'{\" \"*i}{\"*\"*(x-2*i)}')"
   ]
  },
  {
   "cell_type": "code",
   "execution_count": 4,
   "metadata": {},
   "outputs": [
    {
     "name": "stdout",
     "output_type": "stream",
     "text": [
      "   *\n",
      "  **\n",
      " ***\n",
      "*******\n",
      "   ***\n",
      "   **\n",
      "   *\n",
      "   \n"
     ]
    }
   ],
   "source": [
    "x = 7\n",
    "y = x // 2\n",
    "for i in range(-y, y + 1):\n",
    "    z = abs(i)\n",
    "    if i == 0:\n",
    "        print(f'{\"*\"*x}')\n",
    "    if i < 0:\n",
    "        print(f'{\" \"*z}{\"*\"*(x+i-3)}')\n",
    "    else:\n",
    "        print(f'{\" \"*y}{\"*\"*(x-i-4)}')"
   ]
  },
  {
   "cell_type": "code",
   "execution_count": 5,
   "metadata": {},
   "outputs": [
    {
     "name": "stdout",
     "output_type": "stream",
     "text": [
      "1\n",
      "1 1 2 3 5 8 13 21 34 55 610\n"
     ]
    }
   ],
   "source": [
    "# 斐波那契\n",
    "# F(n) = F(n-1) + F(n-2)\n",
    "class Fibonacci(object):\n",
    "    def __init__(self, num):\n",
    "        self.num = num\n",
    "\n",
    "    def __iter__(self):\n",
    "        if self.num < 1:\n",
    "            yield 1\n",
    "        a, b = 0, 1\n",
    "        while self.num > 0:\n",
    "            a, b = a + b, a\n",
    "            self.num -= 1\n",
    "            yield a\n",
    "\n",
    "    def __next__(self):\n",
    "        return self.__iter__()\n",
    "\n",
    "f = Fibonacci(0)\n",
    "for i in f:\n",
    "  print(i)\n",
    "\n",
    "# 斐波那契矩阵法\n",
    "### 1\n",
    "import numpy\n",
    "def fib_matrix(n):\n",
    "    res = pow((numpy.matrix([[1, 1], [1, 0]])), n) * numpy.matrix([[1], [0]])\n",
    "    return res[0][0]\n",
    "for i in range(10):\n",
    "    print(int(fib_matrix(i)), end=' ')\n",
    "\n",
    "### 2\n",
    "# 使用矩阵计算斐波那契数列\n",
    "def Fibonacci_Matrix_tool(n):\n",
    "    Matrix = numpy.matrix(\"1 1;1 0\")\n",
    "    # 返回是matrix类型\n",
    "    return pow(Matrix, n)  # pow函数速度快于 使用双星好 **\n",
    "\n",
    "def Fibonacci_Matrix(n):\n",
    "    result_list = []\n",
    "    for i in range(0, n):\n",
    "        result_list.append(numpy.array(Fibonacci_Matrix_tool(i))[0][0])\n",
    "    return result_list\n",
    "# 调用\n",
    "Fibonacci_Matrix(15)\n",
    "\n",
    "\n",
    "# 斐波那契第几位第值\n",
    "num = 15\n",
    "def fibonaci(num):\n",
    "    value = 1\n",
    "    value_n1 = 1\n",
    "    value_n2 = 1\n",
    "    if num == 0 or num == 1:\n",
    "        return value\n",
    "    else:\n",
    "        for i in range(2,15):\n",
    "            value = value_n1 + value_n2\n",
    "            value_n1 = value_n2\n",
    "            value_n2 = value\n",
    "    return value\n",
    "res = fibonaci(num)\n",
    "print(res)"
   ]
  },
  {
   "cell_type": "raw",
   "metadata": {},
   "source": [
    "# 给定一个3*3 的方阵，求转置矩阵（矩阵的行列互换得到的新矩阵称为转置矩阵）\n",
    "1 2 3           1 4 7\n",
    "4 5 6     ==>   2 5 6 \n",
    "7 8 9           3 6 9 \n",
    "\n",
    "# 求转置矩阵\n",
    "1 2 3           1 4\n",
    "4 5 6     ==>   2 5\n",
    "                3 6"
   ]
  },
  {
   "cell_type": "code",
   "execution_count": 24,
   "metadata": {},
   "outputs": [
    {
     "name": "stdout",
     "output_type": "stream",
     "text": [
      "(1, 4, 7)\n",
      "(2, 5, 8)\n",
      "(3, 6, 9)\n",
      "(1, 2, 3)\n",
      "(4, 5, 6)\n",
      "(7, 8, 9)\n"
     ]
    }
   ],
   "source": [
    "z1 = [[1,2,3], [4,5,6], [7,8,9]]\n",
    "z2 = zip(*z1)\n",
    "for i in z2:\n",
    "    print(i)\n",
    "\n",
    "\n",
    "z4 = [\n",
    "    (1, 4, 7),\n",
    "    (2, 5, 8),\n",
    "    (3, 6, 9),\n",
    "]\n",
    "z3 = zip(*z4)\n",
    "for i in z3:\n",
    "    print(i)"
   ]
  },
  {
   "cell_type": "raw",
   "metadata": {},
   "source": [
    "杨辉三角"
   ]
  },
  {
   "cell_type": "code",
   "execution_count": 18,
   "metadata": {},
   "outputs": [
    {
     "name": "stdout",
     "output_type": "stream",
     "text": [
      "[1]\n",
      "[1, 1]\n",
      "[1, 2, 1]\n",
      "[1, 3, 3, 1]\n",
      "[1, 4, 6, 4, 1]\n",
      "[1, 5, 10, 10, 5, 1]\n",
      "[1, 6, 15, 20, 15, 6, 1]\n"
     ]
    }
   ],
   "source": [
    "def get_line_list(line_num, line_count, result):\n",
    "    first_space = line_count - line_num\n",
    "    if line_num == 1:\n",
    "        return [1]\n",
    "    return [1] + [result[line_num-2][i] + result[line_num-2][i+1]for i in range(line_num-2)] + [1]\n",
    "\n",
    "\n",
    "\n",
    "result = []\n",
    "line_count = 7\n",
    "for i in range(line_count):\n",
    "    line_data = get_line_list(i+1, line_count, result)\n",
    "    print(line_data)\n",
    "    result.append(line_data)"
   ]
  },
  {
   "cell_type": "code",
   "execution_count": 6,
   "metadata": {},
   "outputs": [
    {
     "name": "stdout",
     "output_type": "stream",
     "text": [
      "[1, 2, 3, 4, 5, 6, 7, 8, 9]\n"
     ]
    }
   ],
   "source": [
    "# 用冒泡法排序，用封装和解构来交互数据\n",
    "\n",
    "a = [1,9,8,5,6,7,4,3,2]\n",
    "for i in a:\n",
    "    for x, y in enumerate(a):\n",
    "        if x == len(a) - 1:\n",
    "            break\n",
    "        if y > a[x+1]:\n",
    "            a[x], a[x+1] = a[x+1], a[x]\n",
    "print(a)"
   ]
  },
  {
   "cell_type": "code",
   "execution_count": null,
   "metadata": {},
   "outputs": [],
   "source": []
  }
 ],
 "metadata": {
  "kernelspec": {
   "display_name": "Python 3",
   "language": "python",
   "name": "python3"
  },
  "language_info": {
   "codemirror_mode": {
    "name": "ipython",
    "version": 3
   },
   "file_extension": ".py",
   "mimetype": "text/x-python",
   "name": "python",
   "nbconvert_exporter": "python",
   "pygments_lexer": "ipython3",
   "version": "3.6.7"
  }
 },
 "nbformat": 4,
 "nbformat_minor": 2
}
