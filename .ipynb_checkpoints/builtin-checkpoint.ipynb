{
 "cells": [
  {
   "cell_type": "code",
   "execution_count": 2,
   "metadata": {},
   "outputs": [
    {
     "name": "stdout",
     "output_type": "stream",
     "text": [
      "Help on class int in module builtins:\n",
      "\n",
      "class int(object)\n",
      " |  int(x=0) -> integer\n",
      " |  int(x, base=10) -> integer\n",
      " |  \n",
      " |  Convert a number or string to an integer, or return 0 if no arguments\n",
      " |  are given.  If x is a number, return x.__int__().  For floating point\n",
      " |  numbers, this truncates towards zero.\n",
      " |  \n",
      " |  If x is not a number or if base is given, then x must be a string,\n",
      " |  bytes, or bytearray instance representing an integer literal in the\n",
      " |  given base.  The literal can be preceded by '+' or '-' and be surrounded\n",
      " |  by whitespace.  The base defaults to 10.  Valid bases are 0 and 2-36.\n",
      " |  Base 0 means to interpret the base from the string as an integer literal.\n",
      " |  >>> int('0b100', base=0)\n",
      " |  4\n",
      " |  \n",
      " |  Methods defined here:\n",
      " |  \n",
      " |  __abs__(self, /)\n",
      " |      abs(self)\n",
      " |  \n",
      " |  __add__(self, value, /)\n",
      " |      Return self+value.\n",
      " |  \n",
      " |  __and__(self, value, /)\n",
      " |      Return self&value.\n",
      " |  \n",
      " |  __bool__(self, /)\n",
      " |      self != 0\n",
      " |  \n",
      " |  __ceil__(...)\n",
      " |      Ceiling of an Integral returns itself.\n",
      " |  \n",
      " |  __divmod__(self, value, /)\n",
      " |      Return divmod(self, value).\n",
      " |  \n",
      " |  __eq__(self, value, /)\n",
      " |      Return self==value.\n",
      " |  \n",
      " |  __float__(self, /)\n",
      " |      float(self)\n",
      " |  \n",
      " |  __floor__(...)\n",
      " |      Flooring an Integral returns itself.\n",
      " |  \n",
      " |  __floordiv__(self, value, /)\n",
      " |      Return self//value.\n",
      " |  \n",
      " |  __format__(...)\n",
      " |      default object formatter\n",
      " |  \n",
      " |  __ge__(self, value, /)\n",
      " |      Return self>=value.\n",
      " |  \n",
      " |  __getattribute__(self, name, /)\n",
      " |      Return getattr(self, name).\n",
      " |  \n",
      " |  __getnewargs__(...)\n",
      " |  \n",
      " |  __gt__(self, value, /)\n",
      " |      Return self>value.\n",
      " |  \n",
      " |  __hash__(self, /)\n",
      " |      Return hash(self).\n",
      " |  \n",
      " |  __index__(self, /)\n",
      " |      Return self converted to an integer, if self is suitable for use as an index into a list.\n",
      " |  \n",
      " |  __int__(self, /)\n",
      " |      int(self)\n",
      " |  \n",
      " |  __invert__(self, /)\n",
      " |      ~self\n",
      " |  \n",
      " |  __le__(self, value, /)\n",
      " |      Return self<=value.\n",
      " |  \n",
      " |  __lshift__(self, value, /)\n",
      " |      Return self<<value.\n",
      " |  \n",
      " |  __lt__(self, value, /)\n",
      " |      Return self<value.\n",
      " |  \n",
      " |  __mod__(self, value, /)\n",
      " |      Return self%value.\n",
      " |  \n",
      " |  __mul__(self, value, /)\n",
      " |      Return self*value.\n",
      " |  \n",
      " |  __ne__(self, value, /)\n",
      " |      Return self!=value.\n",
      " |  \n",
      " |  __neg__(self, /)\n",
      " |      -self\n",
      " |  \n",
      " |  __new__(*args, **kwargs) from builtins.type\n",
      " |      Create and return a new object.  See help(type) for accurate signature.\n",
      " |  \n",
      " |  __or__(self, value, /)\n",
      " |      Return self|value.\n",
      " |  \n",
      " |  __pos__(self, /)\n",
      " |      +self\n",
      " |  \n",
      " |  __pow__(self, value, mod=None, /)\n",
      " |      Return pow(self, value, mod).\n",
      " |  \n",
      " |  __radd__(self, value, /)\n",
      " |      Return value+self.\n",
      " |  \n",
      " |  __rand__(self, value, /)\n",
      " |      Return value&self.\n",
      " |  \n",
      " |  __rdivmod__(self, value, /)\n",
      " |      Return divmod(value, self).\n",
      " |  \n",
      " |  __repr__(self, /)\n",
      " |      Return repr(self).\n",
      " |  \n",
      " |  __rfloordiv__(self, value, /)\n",
      " |      Return value//self.\n",
      " |  \n",
      " |  __rlshift__(self, value, /)\n",
      " |      Return value<<self.\n",
      " |  \n",
      " |  __rmod__(self, value, /)\n",
      " |      Return value%self.\n",
      " |  \n",
      " |  __rmul__(self, value, /)\n",
      " |      Return value*self.\n",
      " |  \n",
      " |  __ror__(self, value, /)\n",
      " |      Return value|self.\n",
      " |  \n",
      " |  __round__(...)\n",
      " |      Rounding an Integral returns itself.\n",
      " |      Rounding with an ndigits argument also returns an integer.\n",
      " |  \n",
      " |  __rpow__(self, value, mod=None, /)\n",
      " |      Return pow(value, self, mod).\n",
      " |  \n",
      " |  __rrshift__(self, value, /)\n",
      " |      Return value>>self.\n",
      " |  \n",
      " |  __rshift__(self, value, /)\n",
      " |      Return self>>value.\n",
      " |  \n",
      " |  __rsub__(self, value, /)\n",
      " |      Return value-self.\n",
      " |  \n",
      " |  __rtruediv__(self, value, /)\n",
      " |      Return value/self.\n",
      " |  \n",
      " |  __rxor__(self, value, /)\n",
      " |      Return value^self.\n",
      " |  \n",
      " |  __sizeof__(...)\n",
      " |      Returns size in memory, in bytes\n",
      " |  \n",
      " |  __str__(self, /)\n",
      " |      Return str(self).\n",
      " |  \n",
      " |  __sub__(self, value, /)\n",
      " |      Return self-value.\n",
      " |  \n",
      " |  __truediv__(self, value, /)\n",
      " |      Return self/value.\n",
      " |  \n",
      " |  __trunc__(...)\n",
      " |      Truncating an Integral returns itself.\n",
      " |  \n",
      " |  __xor__(self, value, /)\n",
      " |      Return self^value.\n",
      " |  \n",
      " |  bit_length(...)\n",
      " |      int.bit_length() -> int\n",
      " |      \n",
      " |      Number of bits necessary to represent self in binary.\n",
      " |      >>> bin(37)\n",
      " |      '0b100101'\n",
      " |      >>> (37).bit_length()\n",
      " |      6\n",
      " |  \n",
      " |  conjugate(...)\n",
      " |      Returns self, the complex conjugate of any int.\n",
      " |  \n",
      " |  from_bytes(...) from builtins.type\n",
      " |      int.from_bytes(bytes, byteorder, *, signed=False) -> int\n",
      " |      \n",
      " |      Return the integer represented by the given array of bytes.\n",
      " |      \n",
      " |      The bytes argument must be a bytes-like object (e.g. bytes or bytearray).\n",
      " |      \n",
      " |      The byteorder argument determines the byte order used to represent the\n",
      " |      integer.  If byteorder is 'big', the most significant byte is at the\n",
      " |      beginning of the byte array.  If byteorder is 'little', the most\n",
      " |      significant byte is at the end of the byte array.  To request the native\n",
      " |      byte order of the host system, use `sys.byteorder' as the byte order value.\n",
      " |      \n",
      " |      The signed keyword-only argument indicates whether two's complement is\n",
      " |      used to represent the integer.\n",
      " |  \n",
      " |  to_bytes(...)\n",
      " |      int.to_bytes(length, byteorder, *, signed=False) -> bytes\n",
      " |      \n",
      " |      Return an array of bytes representing an integer.\n",
      " |      \n",
      " |      The integer is represented using length bytes.  An OverflowError is\n",
      " |      raised if the integer is not representable with the given number of\n",
      " |      bytes.\n",
      " |      \n",
      " |      The byteorder argument determines the byte order used to represent the\n",
      " |      integer.  If byteorder is 'big', the most significant byte is at the\n",
      " |      beginning of the byte array.  If byteorder is 'little', the most\n",
      " |      significant byte is at the end of the byte array.  To request the native\n",
      " |      byte order of the host system, use `sys.byteorder' as the byte order value.\n",
      " |      \n",
      " |      The signed keyword-only argument determines whether two's complement is\n",
      " |      used to represent the integer.  If signed is False and a negative integer\n",
      " |      is given, an OverflowError is raised.\n",
      " |  \n",
      " |  ----------------------------------------------------------------------\n",
      " |  Data descriptors defined here:\n",
      " |  \n",
      " |  denominator\n",
      " |      the denominator of a rational number in lowest terms\n",
      " |  \n",
      " |  imag\n",
      " |      the imaginary part of a complex number\n",
      " |  \n",
      " |  numerator\n",
      " |      the numerator of a rational number in lowest terms\n",
      " |  \n",
      " |  real\n",
      " |      the real part of a complex number\n",
      "\n"
     ]
    }
   ],
   "source": [
    "help(int)"
   ]
  },
  {
   "cell_type": "code",
   "execution_count": 3,
   "metadata": {},
   "outputs": [
    {
     "name": "stdout",
     "output_type": "stream",
     "text": [
      "qwqer\n"
     ]
    },
    {
     "data": {
      "text/plain": [
       "'qwqer'"
      ]
     },
     "execution_count": 3,
     "metadata": {},
     "output_type": "execute_result"
    }
   ],
   "source": [
    "input()"
   ]
  },
  {
   "cell_type": "code",
   "execution_count": null,
   "metadata": {},
   "outputs": [],
   "source": []
  },
  {
   "cell_type": "code",
   "execution_count": 49,
   "metadata": {},
   "outputs": [
    {
     "name": "stdout",
     "output_type": "stream",
     "text": [
      "Help on built-in function sorted in module builtins:\n",
      "\n",
      "sorted(iterable, /, *, key=None, reverse=False)\n",
      "    Return a new list containing all items from the iterable in ascending order.\n",
      "    \n",
      "    A custom key function can be supplied to customize the sort order, and the\n",
      "    reverse flag can be set to request the result in descending order.\n",
      "\n"
     ]
    }
   ],
   "source": [
    "help(sorted)"
   ]
  },
  {
   "cell_type": "code",
   "execution_count": 9,
   "metadata": {},
   "outputs": [
    {
     "data": {
      "text/plain": [
       "(2+7j)"
      ]
     },
     "execution_count": 9,
     "metadata": {},
     "output_type": "execute_result"
    }
   ],
   "source": [
    "complex(2,7)"
   ]
  },
  {
   "cell_type": "code",
   "execution_count": 14,
   "metadata": {},
   "outputs": [
    {
     "name": "stdout",
     "output_type": "stream",
     "text": [
      "1\n",
      "2\n"
     ]
    }
   ],
   "source": [
    "# math\n",
    "import math\n",
    "# 地板除\n",
    "print(math.floor(1.6))\n",
    "# 天花板\n",
    "print(math.ceil(1.1))\n",
    "math.sqrt(2)#开平方\n",
    "math.pi #圆周率\n",
    "math.e #自然数"
   ]
  },
  {
   "cell_type": "code",
   "execution_count": null,
   "metadata": {},
   "outputs": [],
   "source": [
    "# python round() 四舍六入，五取偶\n",
    "# pow(x, y) == x**y\n"
   ]
  },
  {
   "cell_type": "code",
   "execution_count": 20,
   "metadata": {},
   "outputs": [
    {
     "data": {
      "text/plain": [
       "'0x1'"
      ]
     },
     "execution_count": 20,
     "metadata": {},
     "output_type": "execute_result"
    }
   ],
   "source": [
    "bin(1) #二进制\n",
    "oct(2) #八进制\n",
    "hex(1) #十六进制"
   ]
  },
  {
   "cell_type": "code",
   "execution_count": 4,
   "metadata": {},
   "outputs": [
    {
     "name": "stdout",
     "output_type": "stream",
     "text": [
      "Student(name='tom', age=20)\n",
      "tom\n"
     ]
    }
   ],
   "source": [
    "# list 链表 queue（队列，先进先出或后进先出） stack（栈，后进先出） tuple(元组)\n",
    "\n",
    "# 元组\n",
    "# namedtuple(typename, field_name, verbose=False, rename=False)\n",
    "from collections import namedtuple\n",
    "\n",
    "Student = namedtuple('Student', 'name age')\n",
    "tom = Student('tom', 20)\n",
    "print(tom)\n",
    "print(tom.name)"
   ]
  },
  {
   "cell_type": "code",
   "execution_count": 2,
   "metadata": {},
   "outputs": [
    {
     "name": "stdout",
     "output_type": "stream",
     "text": [
      "e\n",
      "<class 'str'>\n",
      "['s', 'e', 'l', 'e', 'c', 't']\n",
      "('s', 'e', 'l', 'e', 'c', 't')\n",
      "('aa', '/', 'bb/cc/dd')\n",
      "AA/BB/CC/DD\n",
      "aa/bb/cc/dd\n",
      "AA/BB/CC/DD\n",
      "Aa/Bb/Cc/Dd\n",
      "Aa/bb/cc/dd\n",
      "====aa/bb/cc/dd=====\n",
      "000000000aa/bb/cc/dd\n",
      "aa#bb#cc/dd\n",
      "hello word\n"
     ]
    }
   ],
   "source": [
    "# 字符串 \n",
    "a = 'select'\n",
    "print(a[1])\n",
    "print(type(a[1]))\n",
    "\n",
    "print(list(a))\n",
    "print(tuple(a))\n",
    "\n",
    "#字符串切割\n",
    "a = \"aa/bb/cc/dd\"\n",
    "a.rsplit(\"/\", 1)\n",
    "\n",
    "# splitlines([keepends]) 按 \\r \\n \\r\\n 切割字符串\n",
    "\n",
    "# partition(seq) -> (head, seq, tail) ////rpartition(seq)\n",
    "print(a.partition('/'))\n",
    "\n",
    "print(a.upper())\n",
    "print(a.lower())\n",
    "print(a.swapcase()) #大写变小写小写变大些\n",
    "\n",
    "# 字符串排版\n",
    "\n",
    "print(a.title()) #每个单词首字母大写\n",
    "\n",
    "print(a.capitalize()) #首字母大写\n",
    "\n",
    "print(a.center(20, '=')) #居中，填充    ljust(width, fillchar), rjust(width, fillchar)左对齐，后对齐\n",
    "\n",
    "print(a.zfill(20))  #右对齐，左补零\n",
    "\n",
    "print(a.replace('/', '#', 2))# 替换\n",
    "\n",
    "s = \"\\r \\n\\r hello word\\r\\n\\n\"\n",
    "print(s.strip())\n",
    "\n",
    "#字符串查找 \n",
    "#find(sub, [start, end]) -> int  rfind(sub, [start, end]) -> int从右向左找，，没找到返回-1\n",
    "# 功能类似 index(sub, [start, end]) -> int 没找到异常ValueError\n",
    "\n",
    "# startswith(prefix, [start, end])  startswith(suffix, [start, end]) 是否以给定的字符串开头或结尾"
   ]
  },
  {
   "cell_type": "code",
   "execution_count": null,
   "metadata": {},
   "outputs": [],
   "source": [
    "# 字符串判断 is 系列\n",
    "\n",
    "isalnum() -> bool # 是否是字母和数字组成\n",
    "isalpha() -> bool #是否是字母\n",
    "isdecimal() -> bool # 是否只包含十进制数字\n",
    "isdigit() -> bool # 是否趋势数字（0-9）\n",
    "isidentifier() -> bool # 是否是字母和下划线开头，其他全是字母，数字，下划线组成\n",
    "islower() -> bool # 是否全小写\n",
    "isupper() -> bool# 是否全大写\n",
    "isspace() -> bool #是否只包含空白符"
   ]
  },
  {
   "cell_type": "code",
   "execution_count": 5,
   "metadata": {},
   "outputs": [
    {
     "data": {
      "text/plain": [
       "'e888'"
      ]
     },
     "execution_count": 5,
     "metadata": {},
     "output_type": "execute_result"
    }
   ],
   "source": [
    "# format 格式化字符串\n",
    "# < 左对齐， >有对齐 ，^ 居中 \n",
    "li = [192, 235,1234,56]\n",
    "'bin:{:b}, oct:{:0<5o},hex:{:02x}--{:5<1}'.format(*li)\n",
    "\n",
    "# 索引0， 4个字符， 左对齐， 8补位\n",
    "a = '{0:8<4}'\n",
    "a.format('e')\n"
   ]
  },
  {
   "cell_type": "code",
   "execution_count": null,
   "metadata": {},
   "outputs": [],
   "source": [
    "help('FORMATTING')"
   ]
  },
  {
   "cell_type": "code",
   "execution_count": 30,
   "metadata": {},
   "outputs": [
    {
     "name": "stdout",
     "output_type": "stream",
     "text": [
      "(123, 456)\n",
      "456 123\n",
      "2 3\n",
      "a b\n",
      "1 [2, 3, 4, 5]\n",
      "[1, 2, 3, 4] 5\n",
      "[1, 2, 3, 4, 5]\n",
      "1 ['2', '3'] 4\n"
     ]
    }
   ],
   "source": [
    "# python 的封装和解构 \n",
    "\n",
    "a = 123\n",
    "b = 456\n",
    "c = 123, 456 #左边封装\n",
    "print(c)\n",
    "\n",
    "a, b = b, a #左边封装， 右边解构\n",
    "print(a, b)\n",
    "\n",
    "d , e = {2, 3} \n",
    "print(d, e)\n",
    "\n",
    "f, g = {'a':123, 'b': 345} #解构的是key值， 等价于 f, g = dict.keys()\n",
    "print(f, g)\n",
    "\n",
    "\n",
    "x, *y = 1,2,3,4,5\n",
    "print(x, y)\n",
    "*x, y = 1,2,3,4,5 \n",
    "print(x, y)\n",
    "\n",
    "#*x = 1,2,3,4,5 # 报错\n",
    "\n",
    "*x, = 1,2,3,4,5 # 可以，，等价于x = 1,2,3,4,5\n",
    "print(x)\n",
    "\n",
    "x, y = 'qw'\n",
    "x, *y, z = '1234'\n",
    "print(x, y, z)"
   ]
  },
  {
   "cell_type": "code",
   "execution_count": 31,
   "metadata": {},
   "outputs": [
    {
     "name": "stdout",
     "output_type": "stream",
     "text": [
      "['2', '3']\n"
     ]
    }
   ],
   "source": [
    "# 丢弃变量 _, 合法标识符，是python中的不成文规定\n",
    "x, *_, z = '1234'\n",
    "print(_)"
   ]
  },
  {
   "cell_type": "code",
   "execution_count": 5,
   "metadata": {},
   "outputs": [
    {
     "name": "stdout",
     "output_type": "stream",
     "text": [
      "{1, 2, 'g', 7, 8, '5', 9, 'h', 'sdaf', 'a', 'dfgh', 'f', '1', '2', '3', '4', 's', 'd'}\n"
     ]
    }
   ],
   "source": [
    "# set 在用in 和 not in 成员遍历查找是效率非常高，，因为直接是用值的hash去查找的\n",
    "\n",
    "# s = set() 或 s = set(iterable) 创建一个set对象，set元素必须是可哈希的 hashable \n",
    "# s.add(1) #添加单个元素\n",
    "# s.update(*other) #*other 每个必须是个可迭代的，可以是多个, update会把每个参数  other 迭代放入 \n",
    "\n",
    "s = set()\n",
    "s.add(1)\n",
    "# s.update(1,2,3,4,5)  # 这个不行 int是不可迭代的，，可以写成一下形式\n",
    "s.update('1','2','3','4','5')\n",
    "s.update([1,2,7,8,9])\n",
    "s.update('dfgh', 'sdaf')\n",
    "s.update(['dfgh', 'sdaf'])\n",
    "print(s)\n",
    "\n",
    "s.remove(elem) #移除元素没有KeyError\n",
    "s.discard(elem)#移除元素没有什么都不做\n",
    "s.pop() #随机弹出删除，空集KeyError\n",
    "s.clear() #清空集合"
   ]
  },
  {
   "cell_type": "code",
   "execution_count": 1,
   "metadata": {},
   "outputs": [
    {
     "data": {
      "text/plain": [
       "False"
      ]
     },
     "execution_count": 1,
     "metadata": {},
     "output_type": "execute_result"
    }
   ],
   "source": [
    "# set 和list 的性能比较\n",
    "# 在用in 和 not in 成员遍历查找是效率非常高，，因为直接是用值的hash去查找的\n",
    "s = set(range(10000))\n",
    "l = list(range(10000))\n",
    "-1 in s\n",
    "-1 in l\n",
    "\n",
    "# 线性结构 如list tuple 做值查询时时间复杂度位O(n), 而像dict和set的等结构用hash作为key，查询时间复杂度为 O(1)\n"
   ]
  },
  {
   "cell_type": "code",
   "execution_count": 10,
   "metadata": {},
   "outputs": [
    {
     "name": "stdout",
     "output_type": "stream",
     "text": [
      "{1: 2, 4: 5}\n",
      "{1: 2, 4: 5, 'kk': 22}\n"
     ]
    },
    {
     "data": {
      "text/plain": [
       "{1: 1, 2: 1, 3: 1}"
      ]
     },
     "execution_count": 10,
     "metadata": {},
     "output_type": "execute_result"
    }
   ],
   "source": [
    "# 字典 dict\n",
    "# 构造\n",
    "d = dict()\n",
    "d = {}\n",
    "d = dict(name=1, email=44) # dict(**kwargs)\n",
    "d = dict(((1,2), (4,5)))\n",
    "print(d)\n",
    "d = dict(d, kk=22)\n",
    "print(d)\n",
    "dict.fromkeys([1,2,3,],1)"
   ]
  },
  {
   "cell_type": "code",
   "execution_count": 17,
   "metadata": {},
   "outputs": [
    {
     "name": "stdout",
     "output_type": "stream",
     "text": [
      "{'w': 33, 'e': 44, 'ee': 66, 'cc': 5}\n"
     ]
    }
   ],
   "source": [
    "# update\n",
    "d = {'w':33}\n",
    "d.update({'e':44})\n",
    "d.update(((\"ee\",66),))\n",
    "d.update(cc=5)\n",
    "print(d)"
   ]
  },
  {
   "cell_type": "code",
   "execution_count": 1,
   "metadata": {},
   "outputs": [],
   "source": [
    "# pop popitem clean del\n",
    "\n",
    "d = {'w': 33, 'e': 44, 'ee': 66, 'cc': 5}\n",
    "# d.pop(key, [,default])\n",
    "# d.popitem() #返回键值对\n",
    "# d.clean()\n",
    "# del d['w']"
   ]
  },
  {
   "cell_type": "code",
   "execution_count": 2,
   "metadata": {},
   "outputs": [
    {
     "name": "stdout",
     "output_type": "stream",
     "text": [
      "defaultdict(<class 'list'>, {'a': [0, 1, 2], 'b': [0, 1, 2], 'c': [0, 1, 2], 'd': [0, 1, 2], 'e': [0, 1, 2]})\n"
     ]
    }
   ],
   "source": [
    "#collections.defaultdict([default_factory[,]])\n",
    "import collections\n",
    "d = collections.defaultdict(list)\n",
    "for i in 'abcde':\n",
    "    for j in range(3):\n",
    "        d[i].append(j)\n",
    "print(d)       "
   ]
  },
  {
   "cell_type": "code",
   "execution_count": 1,
   "metadata": {},
   "outputs": [],
   "source": [
    "# collections.OrdereDict() 有序字典,3.6 字典有序，key插入的顺序"
   ]
  },
  {
   "cell_type": "code",
   "execution_count": 6,
   "metadata": {},
   "outputs": [
    {
     "name": "stdout",
     "output_type": "stream",
     "text": [
      "[(5, 24), (6, 24)]\n",
      "[(5, 24), (6, 24)]\n",
      "[(5, 24), (6, 24)]\n",
      "[6, 6, 6, 6]\n",
      "[0, 2, 4, 6]\n",
      "-----------\n",
      "[6, 6, 6, 6]\n"
     ]
    }
   ],
   "source": [
    "# 列表生成式\n",
    "a = [(i, j) for i in range(7) if i > 4  for j in range(20, 25) if j > 23]\n",
    "b = [(i, j) for i in range(7) for j in range(20, 25) if i > 4 if j > 23]\n",
    "c = [(i, j) for i in range(7) for j in range(20, 25) if i > 4 and j > 23]\n",
    "\n",
    "print(a)\n",
    "print(b)\n",
    "print(c)\n",
    "\n",
    "# 延迟绑定：因为Python解释器，遇到lambda（类似于def）,只是定义了一个匿名函数对象，并保存在内存中\n",
    "# 只有等到调用这个匿名函数的时候，才会运行内部的表达式\n",
    "d = [lambda x: x * i for i in range(4)]\n",
    "f = [e(2) for e in d]\n",
    "print(f)\n",
    "\n",
    "\n",
    "d = [lambda x, i=i: x * i for i in range(4)]\n",
    "f = [e(2) for e in d]\n",
    "print(f)\n",
    "\n",
    "# 第一中情况等价于\n",
    "i = 0\n",
    "for j in range(4):\n",
    "    i = j\n",
    "def dd(x):\n",
    "    return x * i\n",
    "\n",
    "e = [dd(2) for x in range(4)]\n",
    "print('-----------')\n",
    "print(e)"
   ]
  },
  {
   "cell_type": "code",
   "execution_count": 7,
   "metadata": {},
   "outputs": [
    {
     "name": "stdout",
     "output_type": "stream",
     "text": [
      "<generator object <genexpr> at 0x105df2d58>\n",
      "0\n",
      "1\n",
      "3\n"
     ]
    }
   ],
   "source": [
    "# 生成器表达式 generator expression(按需计算，惰性求值，延迟计算)\n",
    "a = (i for i in range(9))\n",
    "print(a)\n",
    "print(next(a))\n",
    "print(next(a))\n",
    "\n",
    "b = a.send(None)\n",
    "b = a.send(None)\n",
    "print(b)\n",
    "\n",
    "\n"
   ]
  },
  {
   "cell_type": "code",
   "execution_count": 56,
   "metadata": {},
   "outputs": [
    {
     "name": "stdout",
     "output_type": "stream",
     "text": [
      "here\n",
      "200 OK  \n",
      "200 OK  \n"
     ]
    }
   ],
   "source": [
    "import time\n",
    "def consumer():\n",
    "     r = 'here'\n",
    "     while True:\n",
    "        print(r)\n",
    "         yield r\n",
    "         time.sleep(1)\n",
    "         #r = '200 OK'\n",
    "\n",
    "\n",
    "\n",
    "c = consumer()\n",
    "for i in range(3):\n",
    "    d = next(c)\n",
    "    print(d)\n",
    "\n"
   ]
  },
  {
   "cell_type": "code",
   "execution_count": 72,
   "metadata": {},
   "outputs": [
    {
     "name": "stdout",
     "output_type": "stream",
     "text": [
      "here\n",
      "[CONSUMER] Consuming 1...\n",
      "200 OK  1\n",
      "[CONSUMER] Consuming 5...\n",
      "200 OK  5\n"
     ]
    }
   ],
   "source": [
    "# 生成器\n",
    "\n",
    "def consumer():\n",
    "     r = 'here'\n",
    "     while True:\n",
    "         n1 = yield r\n",
    "         print(n1)\n",
    "         if not n1 and n1 is not None:\n",
    "             return\n",
    "         print('[CONSUMER] Consuming %s...' % n1)\n",
    "         r = '200 OK  '+str(n1)\n",
    "            \n",
    "c = consumer()\n",
    "#next(c),等价于 c.send(None)\n",
    "d = c.send(None)\n",
    "print(d)\n",
    "#d = c.send(1)\n",
    "d = next(c)\n",
    "print(d)\n",
    "#d = c.send(5)\n",
    "d = next(c)\n",
    "print(d)"
   ]
  },
  {
   "cell_type": "code",
   "execution_count": null,
   "metadata": {},
   "outputs": [],
   "source": []
  }
 ],
 "metadata": {
  "kernelspec": {
   "display_name": "Python 3",
   "language": "python",
   "name": "python3"
  },
  "language_info": {
   "codemirror_mode": {
    "name": "ipython",
    "version": 3
   },
   "file_extension": ".py",
   "mimetype": "text/x-python",
   "name": "python",
   "nbconvert_exporter": "python",
   "pygments_lexer": "ipython3",
   "version": "3.6.7"
  }
 },
 "nbformat": 4,
 "nbformat_minor": 2
}
