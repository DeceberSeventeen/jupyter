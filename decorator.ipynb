{
 "cells": [
  {
   "cell_type": "raw",
   "metadata": {},
   "source": [
    "装饰器\n",
    "\n",
    "先理解一个柯里化：\n",
    "柯里化（Currying）是把接受多个参数的函数变换成接受一个单一参数(最初函数的第一个参数)的函数，并且返回接受余下的参数且返回结果的新函数的技术\n",
    "\n",
    "即 add(a,b)，  add(a)(b), 这两个运行效果一样\n",
    "\n",
    "@语法糖在什么时候干了啥事？\n",
    "@语法糖只做一件事那就是  仅在被加载或导入时把被装饰函数传入装饰函数中并返回新的函数，且只运行一次，这点很重要一定要理解\n",
    "@的后面是一个可调用的，且参数是接收一个函数的对象，即@x， x = f1(fn)比如函数的引用，或实现__call__函数的类\n",
    "\n",
    "装饰器分解说明：\n",
    "\n",
    "不管带不带参啥的。万变不离其中。\n",
    "\n",
    "\n",
    "1. \n",
    "@a\n",
    "def b():\n",
    "    pass\n",
    "\n",
    "这种的分解为: b(): b = a(b) >> b(), 此时调用的b()其实就是调用b = a(b) 然后 b(), a为装饰器函数的引用接受一个函数做参数，返回一个新函数，然后调用，如果被装饰的函数由参数直接带上就是了， 只不过a(b)返回的函数也必须是一个带参数的。如下\n",
    "\n",
    "@a\n",
    "def b(x, y):   等价于b = a(b) >> b(x, y), 即a(b) 返回了一个接受两个参数的函数\n",
    "    pass\n",
    "\n",
    "这种的装饰器应该是这样的：\n",
    "\n",
    "def a(fn):\n",
    "    def wrapper(*args, **kwargs):接受被装饰函数的参数\n",
    "        do some thing\n",
    "        return wrapper\n",
    "    return wrapper 返回新函数，在导入是就已经执行了，所以装饰器在导入后装饰器参数和装饰的函数就不能改变的了\n",
    "\n",
    "2.\n",
    "@a(c, d)\n",
    "def b():\n",
    "    pass\n",
    "\n",
    "这种的分解为: b(): b = a(c, d)(b) >> b(), 此时调用的b()其实就是调用b = a(c, d)(b) 然后 b(), a(c, d)类似1中的a，所以这种会多一层，先返回上面1中的a，在返回新函数，再调用执行，\n",
    "\n",
    "这种装饰器应该是这样的：\n",
    "def outa(c,d): 先接受两个参数， 返回一个1上面的a， 在由@a同样的原理来执行，只是多了一步闭包而已\n",
    "    def a(fn):\n",
    "        def wrapper(*args, **kwargs):接受被装饰函数的参数\n",
    "            do some thing\n",
    "            return wrapper\n",
    "        return wrapper 返回新函数，在导入是就已经执行了，所以装饰器在导入后装饰器参数和装饰的函数就不能改变的了\n",
    "    return a\n",
    "\n",
    "    \n",
    "以下看例子"
   ]
  },
  {
   "cell_type": "code",
   "execution_count": 5,
   "metadata": {},
   "outputs": [
    {
     "name": "stdout",
     "output_type": "stream",
     "text": [
      "2\n"
     ]
    }
   ],
   "source": [
    "\n",
    "def decor(fn):\n",
    "    return 2\n",
    "\n",
    "@decor #等价于 add = decor(add),在被加载是就已经运行装饰器替换了原函数，且只运行一次\n",
    "def add():\n",
    "    return 1\n",
    "print(add)\n",
    "\n"
   ]
  },
  {
   "cell_type": "code",
   "execution_count": 1,
   "metadata": {},
   "outputs": [
    {
     "name": "stdout",
     "output_type": "stream",
     "text": [
      "wrapper\n",
      "wo shi decorator\n",
      "2\n"
     ]
    }
   ],
   "source": [
    "def decor(fn):\n",
    "    def wrapper():\n",
    "        \"\"\"wo shi decorator\"\"\"\n",
    "        return 2\n",
    "    return wrapper\n",
    "\n",
    "@decor #等价于 add = decor(add),在被加载是就已经运行装饰器替换了原函数，且只运行一次\n",
    "def add():\n",
    "    return 1\n",
    "\n",
    "#此时name为wrapper，即此时的调用已经是在调用docor里的wrapper了，说明在加载时函数add已经被装饰器替换成了新函数\n",
    "print(add.__name__)\n",
    "print(add.__doc__) #此时的doc都被替换成了 decor的了\n",
    "print(add())\n",
    "\n",
    "\n"
   ]
  },
  {
   "cell_type": "code",
   "execution_count": 13,
   "metadata": {},
   "outputs": [
    {
     "name": "stdout",
     "output_type": "stream",
     "text": [
      "wrapper\n",
      "(1, 2, 3)\n"
     ]
    }
   ],
   "source": [
    "# 被装饰函数带参数\n",
    "def decor(fn):\n",
    "#     根据需求而定参数\n",
    "    def wrapper(*args, **kwargs):\n",
    "        fn()\n",
    "        return args\n",
    "    return wrapper\n",
    "\n",
    "@decor #等价于 add = decor(add)\n",
    "def add(x, y, z):\n",
    "    return 1\n",
    "\n",
    "#此时name为wrapper，即此时的调用已经是在调用docor里的wrapper了，说明在加载时函数add已经被装饰器替换成了新函数\n",
    "print(add.__name__)\n",
    "rint(add.__doc__) #此时的doc都被替换成了 decor的了\n",
    "print(add(1,2,3))\n",
    "\n",
    "# 其实这边add(1,2,3)其实调用的是 decor下面的wrapper(1,2,3), 因为此时的add 就是函数 wrapper\n",
    "# 其实调用顺序是： decor(add)(1,2,3)"
   ]
  },
  {
   "cell_type": "code",
   "execution_count": 16,
   "metadata": {},
   "outputs": [
    {
     "name": "stdout",
     "output_type": "stream",
     "text": [
      "wrapper\n",
      "(1, 2, 3)\n"
     ]
    }
   ],
   "source": [
    "# 装饰函数带参数\n",
    "# 由上面的可以理解@decor 的作用等价于 add = docor(add)\n",
    "# @后面的 docor 是函数的引用, @语法糖会自己把被装饰的函数作为参数调用@后面的函数即 add = doctor(add)\n",
    "# 那么@后面只要是函数的引用就行了对吧，那是不是@后面可以跟一个函数调用，此调用返回一个函数的引用，即上面的decor函数\n",
    "\n",
    "# outdecor函数调用后返回decor的函数引用\n",
    "def outdecor(a, b):\n",
    "    def decor(fn):\n",
    "    #     根据需求而定参数\n",
    "        def wrapper(*args, **kwargs):\n",
    "            fn(*args)\n",
    "            return args\n",
    "        return wrapper\n",
    "    return decor\n",
    "\n",
    "@outdecor(1,2) #等价于 add = outdecor(1,2)(add)\n",
    "def add(x, y, z):\n",
    "    return 1\n",
    "\n",
    "print(add.__name__)\n",
    "print(add(1,2,3))\n",
    "\n",
    "#上面的@outdecor(1,2),真实操作就是，先调用了outdecor(1,2) 返回了一个内层的函数decor的引用，这样就把装饰器的参数传进去了(由闭包实现)\n"
   ]
  },
  {
   "cell_type": "code",
   "execution_count": 32,
   "metadata": {},
   "outputs": [
    {
     "name": "stdout",
     "output_type": "stream",
     "text": [
      "add\n",
      "wo shi add \n",
      "6\n"
     ]
    }
   ],
   "source": [
    "# 由开发需要我们需要把add的__doc__改回自己原本的,或者还原其他属性\n",
    "\n",
    "# 我们也可以写一个装饰器，还原属性\n",
    "def restore_property(fn): #这边的fn就是接受的add函数的\n",
    "    def wrapper(wrappered):# 这边的wrappered是接受 outdecor中的wrapper的， \n",
    "        #这里面没有对wrappered函数进行调用，只是改动了wrappered对属性， 所以没有接受参数对那层函数\n",
    "        wrappered.__name__ = fn.__name__\n",
    "        wrappered.__doc__ = fn.__doc__\n",
    "        #这个return一定要， 因为在下面的@restore_property(fn)需要有一个函数 func(wrapper)\n",
    "        #并返回outdecor中的wrapper， 即上面讲的@后面必需是个函数对引用，或一个函数对调用且调用后返回一个函数对引用\n",
    "        return wrappered\n",
    "    return wrapper\n",
    "\n",
    "\n",
    "def outdecor(a, b):\n",
    "    def decor(fn):\n",
    "        @restore_property(fn) #装饰器里的装饰器\n",
    "        def wrapper(*args, **kwargs):\n",
    "            \"\"\"wo shi decorator\"\"\"\n",
    "            enter = fn(*args)\n",
    "            return enter #这个return 可有可无\n",
    "        return wrapper #这边的wrapper 其实就是上面return 回来的wrappered\n",
    "    return decor\n",
    "\n",
    "@outdecor(1,2) #等价于 add = outdecor(1,2)(add)\n",
    "def add(x, y, z):\n",
    "    \"\"\"wo shi add \"\"\"\n",
    "    return x + y + z\n",
    "\n",
    "print(add.__name__)\n",
    "print(add.__doc__)\n",
    "print(add(1,2,3))\n",
    "\n"
   ]
  },
  {
   "cell_type": "code",
   "execution_count": 40,
   "metadata": {},
   "outputs": [
    {
     "name": "stdout",
     "output_type": "stream",
     "text": [
      "add\n",
      "wo shi add \n",
      "before\n",
      "after\n",
      "6\n"
     ]
    }
   ],
   "source": [
    "\n",
    "# 用类写一个带参数的装饰器, 且还原doc等属性\n",
    "class RestoreProperty(object):\n",
    "    def __init__(self, fn):\n",
    "        self.fn = fn\n",
    "\n",
    "    def __call__(self, wrappered):\n",
    "        wrappered.__name__ = self.fn.__name__\n",
    "        \n",
    "        wrappered.__doc__ = self.fn.__doc__\n",
    "        return wrappered\n",
    "\n",
    "    \n",
    "class Decor(object):\n",
    "    def __init__(self, c, d):\n",
    "        self.c = c\n",
    "        self.d = d\n",
    "        \n",
    "    def __call__(self, fn):\n",
    "        @RestoreProperty(fn)\n",
    "        def wrapper(x, y, z):\n",
    "            \"\"\"wo shi 类装饰器\"\"\"\n",
    "            print('before')\n",
    "            enter = fn(x, y, z)\n",
    "            print('after')\n",
    "            return enter\n",
    "        return wrapper\n",
    "\n",
    "\n",
    "\n",
    "@Decor(1,2) #等价于 add = outdecor(1,2)(add)\n",
    "def add(x, y, z):\n",
    "    \"\"\"wo shi add \"\"\"\n",
    "    return x + y + z\n",
    "\n",
    "print(add.__name__)\n",
    "print(add.__doc__)\n",
    "print(add(1,2,3))"
   ]
  },
  {
   "cell_type": "code",
   "execution_count": null,
   "metadata": {},
   "outputs": [],
   "source": []
  }
 ],
 "metadata": {
  "kernelspec": {
   "display_name": "Python 3",
   "language": "python",
   "name": "python3"
  },
  "language_info": {
   "codemirror_mode": {
    "name": "ipython",
    "version": 3
   },
   "file_extension": ".py",
   "mimetype": "text/x-python",
   "name": "python",
   "nbconvert_exporter": "python",
   "pygments_lexer": "ipython3",
   "version": "3.6.7"
  }
 },
 "nbformat": 4,
 "nbformat_minor": 2
}
